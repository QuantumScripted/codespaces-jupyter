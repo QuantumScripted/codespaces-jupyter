{
 "cells": [
  {
   "cell_type": "code",
   "execution_count": 8,
   "metadata": {},
   "outputs": [],
   "source": [
    "from tradingview_ta import TA_Handler, Interval, Exchange\n",
    "import tradingview_ta"
   ]
  },
  {
   "cell_type": "code",
   "execution_count": 9,
   "metadata": {},
   "outputs": [
    {
     "name": "stdout",
     "output_type": "stream",
     "text": [
      "3.3.0\n"
     ]
    }
   ],
   "source": [
    "print(tradingview_ta.__version__)\n",
    "# Example output: 3.1.3"
   ]
  },
  {
   "cell_type": "code",
   "execution_count": 10,
   "metadata": {},
   "outputs": [],
   "source": [
    "handler = TA_Handler(\n",
    "    symbol=\"NIFTY\",\n",
    "    exchange=\"NSE\",\n",
    "    screener=\"cfd\",\n",
    "    interval=Interval.INTERVAL_5_MINUTES,\n",
    "    timeout=None\n",
    ")"
   ]
  },
  {
   "cell_type": "code",
   "execution_count": 18,
   "metadata": {},
   "outputs": [
    {
     "data": {
      "text/plain": [
       "{'RECOMMENDATION': 'BUY',\n",
       " 'BUY': 2,\n",
       " 'SELL': 0,\n",
       " 'NEUTRAL': 9,\n",
       " 'COMPUTE': {'RSI': 'NEUTRAL',\n",
       "  'STOCH.K': 'NEUTRAL',\n",
       "  'CCI': 'NEUTRAL',\n",
       "  'ADX': 'NEUTRAL',\n",
       "  'AO': 'NEUTRAL',\n",
       "  'Mom': 'BUY',\n",
       "  'MACD': 'BUY',\n",
       "  'Stoch.RSI': 'NEUTRAL',\n",
       "  'W%R': 'NEUTRAL',\n",
       "  'BBP': 'NEUTRAL',\n",
       "  'UO': 'NEUTRAL'}}"
      ]
     },
     "execution_count": 18,
     "metadata": {},
     "output_type": "execute_result"
    }
   ],
   "source": [
    "handler.get_analysis().oscillators"
   ]
  }
 ],
 "metadata": {
  "kernelspec": {
   "display_name": "Python 3",
   "language": "python",
   "name": "python3"
  },
  "language_info": {
   "codemirror_mode": {
    "name": "ipython",
    "version": 3
   },
   "file_extension": ".py",
   "mimetype": "text/x-python",
   "name": "python",
   "nbconvert_exporter": "python",
   "pygments_lexer": "ipython3",
   "version": "3.10.13"
  }
 },
 "nbformat": 4,
 "nbformat_minor": 2
}
